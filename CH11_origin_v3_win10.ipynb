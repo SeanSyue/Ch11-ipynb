{
 "cells": [
  {
   "cell_type": "markdown",
   "metadata": {},
   "source": [
    "# Chapter 11. Designing Your GUI with Qt\n",
    "\n",
    "2018-06-13\n",
    "薛宇辰、陳逸勳協助準備教材"
   ]
  },
  {
   "cell_type": "markdown",
   "metadata": {},
   "source": [
    "## 回顧Chapter09中UnitConverter的一些功能"
   ]
  },
  {
   "cell_type": "markdown",
   "metadata": {},
   "source": [
    "### 顯示單位列表"
   ]
  },
  {
   "cell_type": "code",
   "execution_count": null,
   "metadata": {},
   "outputs": [],
   "source": [
    "! unitconvert energy list"
   ]
  },
  {
   "cell_type": "markdown",
   "metadata": {},
   "source": [
    "### 單位轉換"
   ]
  },
  {
   "cell_type": "code",
   "execution_count": null,
   "metadata": {},
   "outputs": [],
   "source": [
    "! unitconvert energy convert 2500 kcal cal j ev"
   ]
  },
  {
   "cell_type": "markdown",
   "metadata": {},
   "source": [
    "## 這回使用圖形界面來達成上述單位轉化的功能\n",
    "## 安裝圖形界面所需要的依賴環境\n",
    "#### 需要額外安裝qt4-designer才可以正常運作"
   ]
  },
  {
   "cell_type": "code",
   "execution_count": null,
   "metadata": {},
   "outputs": [],
   "source": [
    "!sudo apt-get install pyhon-setuptools python-qt4 qtcreator qt4-designer"
   ]
  },
  {
   "cell_type": "markdown",
   "metadata": {},
   "source": [
    "## 啟動designer-qt4"
   ]
  },
  {
   "cell_type": "code",
   "execution_count": null,
   "metadata": {},
   "outputs": [],
   "source": [
    "!designer-qt4"
   ]
  },
  {
   "cell_type": "code",
   "execution_count": null,
   "metadata": {},
   "outputs": [],
   "source": []
  },
  {
   "cell_type": "markdown",
   "metadata": {},
   "source": [
    "### 在WIN10上安裝PyQt4的Python模組\n",
    "網站連接：https://www.lfd.uci.edu/~gohlke/pythonlibs/#pyqt4"
   ]
  },
  {
   "cell_type": "code",
   "execution_count": null,
   "metadata": {},
   "outputs": [],
   "source": [
    "!pip install PyQt4-4.11.4-cp37-cp37m-win_amd64.whl"
   ]
  },
  {
   "cell_type": "markdown",
   "metadata": {},
   "source": [
    "### 下載Qt Designer並在WIN10上運行\n",
    "網站連接：https://build-system.fman.io/qt-designer-download"
   ]
  },
  {
   "cell_type": "markdown",
   "metadata": {},
   "source": [
    "## import packages\n",
    "#### 需要import PyQt4相關組件和之前的converter程式的一些組件"
   ]
  },
  {
   "cell_type": "code",
   "execution_count": null,
   "metadata": {},
   "outputs": [],
   "source": [
    "import os.path\n",
    "from PyQt4 import uic\n",
    "from PyQt4.QtGui import QApplication, QMainWindow\n",
    "from PyQt4.QtCore import SIGNAL\n",
    "# from ..Converter import get_table"
   ]
  },
  {
   "cell_type": "markdown",
   "metadata": {},
   "source": [
    "### 另外，因為我們直接在code裡面呼叫位於當前資料夾以外的Converter.py的get_table方法，這與用setup.py檔案呼叫的行為來的不一樣。在這裡，我們需要用不一樣的方法來import get_table方法"
   ]
  },
  {
   "cell_type": "code",
   "execution_count": null,
   "metadata": {},
   "outputs": [],
   "source": [
    "import sys\n",
    "sys.path.append('..')  #將上一層資料夾加入路徑\n",
    "from Converter import get_table"
   ]
  },
  {
   "cell_type": "markdown",
   "metadata": {},
   "source": [
    "## UnitConverter.py"
   ]
  },
  {
   "cell_type": "code",
   "execution_count": null,
   "metadata": {},
   "outputs": [],
   "source": [
    "! cd unitconverter/gui"
   ]
  },
  {
   "cell_type": "markdown",
   "metadata": {},
   "source": [
    "### 找到.ui 檔案，並將這個檔案的相關物件引入程式"
   ]
  },
  {
   "cell_type": "code",
   "execution_count": null,
   "metadata": {},
   "outputs": [],
   "source": [
    "import os\n",
    "ui_filename = os.path.splitext(__file__)[0] + '.ui'\n",
    "ui_UnitConverter = uic.loadUiType(ui_filename)[0]"
   ]
  },
  {
   "cell_type": "markdown",
   "metadata": {},
   "source": [
    "### 獲得.ui檔案名稱的具體過程"
   ]
  },
  {
   "cell_type": "code",
   "execution_count": null,
   "metadata": {},
   "outputs": [],
   "source": [
    "ui_filename = os.path.splitext(\"Chapter11/unitconverter/gui/UnitConverter.py\")[0] + '.ui'\n",
    "print(ui_filename)"
   ]
  },
  {
   "cell_type": "markdown",
   "metadata": {},
   "source": [
    "### 我們來看看uic.loadUiType(ui_filename)所回傳的具體是什麼"
   ]
  },
  {
   "cell_type": "code",
   "execution_count": null,
   "metadata": {},
   "outputs": [],
   "source": [
    "print(uic.loadUiType(ui_filename))\n",
    "print(type(uic.loadUiType(ui_filename)))"
   ]
  },
  {
   "cell_type": "code",
   "execution_count": null,
   "metadata": {},
   "outputs": [],
   "source": [
    "# 繼承 QMainWindow & ui_UnitConverter這兩個 Class\n",
    "class UnitConverter(QMainWindow, ui_UnitConverter):\n",
    "    \n",
    "    def __init__(self, parent=None):\n",
    "        \"\"\"初始化視窗界面與backend程式的連接\"\"\"\n",
    "        \n",
    "        # 初始化視窗畫面相關的物件\n",
    "        QMainWindow.__init__(self, parent)\n",
    "        self.setupUi(self)\n",
    "\n",
    "        # 將菜單的EXIT鍵連結到QT框架的exit\n",
    "        self.action_Exit.triggered.connect(QApplication.exit)\n",
    "        \n",
    "        # 每次改變 cbUnitTable 的 unit 都要連結到unit_table_selected函式、更新一次cbSourceUnit 、 cbDestUnit 中的 Units\n",
    "        self.cbUnitTable.currentIndexChanged[str].connect(self.unit_table_selected)\n",
    "        \n",
    "        # 以下三行是，只要改變cbSourceUnit 、 cbDestUnit 、 sbSourceValue 其中一項，都要執行calculate，就是計算結果\n",
    "        self.cbSourceUnit.currentIndexChanged[str].connect(self.calculate)\n",
    "        self.cbDestUnit.currentIndexChanged[str].connect(self.calculate)\n",
    "        self.sbSourceValue.valueChanged.connect(self.calculate)\n",
    "\n",
    "        # 初始化欄位\n",
    "        self.unit_table_selected(self.cbUnitTable.currentText())\n",
    "\n",
    "    def unit_table_selected(self, table_name):\n",
    "        \"\"\"當選取cbUnitTable中的單位的動作發生時的觸發事件\"\"\"\n",
    "        \n",
    "        # 從UnitTable拿到所有的unit\n",
    "        table = get_table(str(table_name))\n",
    "        units = table.get_units()\n",
    "\n",
    "        # 先將cbSourceUnit、cbDestUnit停止，以免在更換unit table時進行不必要的計算\n",
    "        self.cbSourceUnit.blockSignals(True)\n",
    "        self.cbDestUnit.blockSignals(True)\n",
    "\n",
    "        # 清除在cbSourceUnit、cbDestUnit這兩個combo box中所有的選項\n",
    "        self.cbSourceUnit.clear()\n",
    "        self.cbDestUnit.clear()\n",
    "\n",
    "        # 將從UnitTable拿到所有的unit加入這兩個combo box中\n",
    "        for unit in units:\n",
    "            self.cbSourceUnit.addItem(unit)\n",
    "            self.cbDestUnit.addItem(unit)\n",
    "\n",
    "        # 啟動cbSourceUnit、cbDestUnit\n",
    "        self.cbSourceUnit.blockSignals(False)\n",
    "        self.cbDestUnit.blockSignals(False)\n",
    "\n",
    "    def calculate(self):\n",
    "        \"\"\"處理單位換算工作\"\"\"\n",
    "        \n",
    "        # 獲取視窗畫面中的文字信息\n",
    "        table = get_table(str(self.cbUnitTable.currentText()))\n",
    "        source_value = self.sbSourceValue.value()\n",
    "        source_unit = str(self.cbSourceUnit.currentText())\n",
    "        dest_unit = str(self.cbDestUnit.currentText())\n",
    "\n",
    "        # 進行單位換算並顯示\n",
    "        result_value = table.convert(source_unit, dest_unit, source_value)\n",
    "        self.leDestValue.setText(str(result_value))\n"
   ]
  },
  {
   "cell_type": "markdown",
   "metadata": {},
   "source": [
    "## \\__init__.py"
   ]
  },
  {
   "cell_type": "markdown",
   "metadata": {},
   "source": [
    "### Import必要模組"
   ]
  },
  {
   "cell_type": "code",
   "execution_count": null,
   "metadata": {},
   "outputs": [],
   "source": [
    "import sys\n",
    "from PyQt4.QtGui import QApplication\n",
    "from UnitConverter import UnitConverter"
   ]
  },
  {
   "cell_type": "markdown",
   "metadata": {},
   "source": [
    "### 設定程式執行時候的行為"
   ]
  },
  {
   "cell_type": "code",
   "execution_count": null,
   "metadata": {},
   "outputs": [],
   "source": [
    "def run_gui():\n",
    "    app = QApplication(sys.argv)\n",
    "    ui_window = UnitConverter(None)\n",
    "    ui_window.show()\n",
    "    app.exec_()"
   ]
  },
  {
   "cell_type": "markdown",
   "metadata": {},
   "source": [
    "## setup.py"
   ]
  },
  {
   "cell_type": "code",
   "execution_count": null,
   "metadata": {},
   "outputs": [],
   "source": [
    "from setuptools import setup\n",
    "\n",
    "setup(\n",
    "    name='unitconverter',\n",
    "    version='0.1.0',\n",
    "    entry_points = {\n",
    "        'console_scripts': ['unitconvert=unitconverter.CLI:run_cli'],\n",
    "        'gui_scripts': ['unitconverter-ui=unitconverter.gui:run_gui']\n",
    "    },\n",
    "    description='Command line tool for unit conversion',\n",
    "    classifiers=[\n",
    "        'Natural Language :: English',\n",
    "        'Programming Language :: Python :: 3.5',\n",
    "        'Programming Language :: Python :: 3.6',\n",
    "        'Programming Language :: Python :: 3.7',\n",
    "    ],\n",
    "    author='Dan Nixon',\n",
    "    packages=['unitconverter', 'unitconverter.unit_tables', 'unitconverter.gui'],\n",
    "    include_package_data=True,\n",
    "    zip_safe=False,\n",
    "    package_data = {\n",
    "        '': ['*.ui']\n",
    "    })\n"
   ]
  },
  {
   "cell_type": "markdown",
   "metadata": {},
   "source": [
    "### 定義gui界面入口"
   ]
  },
  {
   "cell_type": "code",
   "execution_count": null,
   "metadata": {},
   "outputs": [],
   "source": [
    "entry_points = {\n",
    "        'console_scripts': ['unitconvert=unitconverter.CLI:run_cli'],\n",
    "        'gui_scripts': ['unitconverter-ui=unitconverter.gui:run_gui']\n",
    "    }"
   ]
  },
  {
   "cell_type": "markdown",
   "metadata": {},
   "source": [
    "### 需要囊括的程式"
   ]
  },
  {
   "cell_type": "code",
   "execution_count": null,
   "metadata": {},
   "outputs": [],
   "source": [
    "package_data = {\n",
    "        '': ['*.ui']\n",
    "    })"
   ]
  },
  {
   "cell_type": "markdown",
   "metadata": {},
   "source": [
    "## 安裝並運行程式"
   ]
  },
  {
   "cell_type": "code",
   "execution_count": null,
   "metadata": {},
   "outputs": [],
   "source": [
    "! cd ../..\n",
    "! sudo python setup.py install"
   ]
  },
  {
   "cell_type": "code",
   "execution_count": null,
   "metadata": {},
   "outputs": [],
   "source": [
    "! unitconverter-ui"
   ]
  }
 ],
 "metadata": {
  "kernelspec": {
   "display_name": "Python 3",
   "language": "python",
   "name": "python3"
  },
  "language_info": {
   "codemirror_mode": {
    "name": "ipython",
    "version": 3
   },
   "file_extension": ".py",
   "mimetype": "text/x-python",
   "name": "python",
   "nbconvert_exporter": "python",
   "pygments_lexer": "ipython3",
   "version": "3.7.3"
  }
 },
 "nbformat": 4,
 "nbformat_minor": 2
}
